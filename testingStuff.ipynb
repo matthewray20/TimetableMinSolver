{
 "cells": [
  {
   "cell_type": "code",
   "execution_count": 1,
   "metadata": {},
   "outputs": [],
   "source": [
    "import os\n",
    "assert os.environ['CONDA_DEFAULT_ENV'] == 'webscrape', \"THE CONDA ENVIRONMENT MUST BE WEBSCARPE\"\n",
    "\n",
    "from selenium import webdriver\n",
    "from selenium.webdriver.common.keys import Keys\n",
    "from bs4 import BeautifulSoup\n",
    "import json\n",
    "import time\n",
    "from datetime import datetime\n",
    "import numpy as np"
   ]
  },
  {
   "cell_type": "code",
   "execution_count": 2,
   "metadata": {},
   "outputs": [],
   "source": [
    "def load_login_details():\n",
    "    with open('logins.json') as f:\n",
    "        details = json.load(f)\n",
    "    return details['username'], details['password']\n",
    "\n",
    "def random_wait(mult=7):\n",
    "    time.sleep(round(np.random.random() * mult, 5))"
   ]
  },
  {
   "cell_type": "code",
   "execution_count": 3,
   "metadata": {},
   "outputs": [],
   "source": [
    "def open_timetable_page(driver):\n",
    "    USERNAME, PASSWORD = load_login_details()\n",
    "    # load up first page\n",
    "    driver.get(\"https://www.rmit.edu.au/students/student-essentials/class-timetables\")\n",
    "    random_wait()    \n",
    "    # click \"Log in to myTimetable\n",
    "    driver.find_element_by_xpath('/html/body/div[2]/div[2]/div/section[2]/div/div[1]/div[2]/div/a').click()\n",
    "    random_wait()   \n",
    "\n",
    "    # log in elements\n",
    "    usernameElement = driver.find_element_by_xpath('/html/body/div[10]/div[1]/div/form/div/div[1]/div/input')\n",
    "    usernameElement.clear()\n",
    "    usernameElement.send_keys(USERNAME)\n",
    "\n",
    "    passwordElement = driver.find_element_by_xpath('/html/body/div[10]/div[1]/div/form/div/div[2]/div/input')\n",
    "    passwordElement.clear()\n",
    "    passwordElement.send_keys(PASSWORD)\n",
    "\n",
    "    random_wait()\n",
    "    \n",
    "    # perform log in\n",
    "    driver.find_element_by_xpath('/html/body/div[10]/div[1]/div/form/div/div[3]/span').click()\n",
    "    random_wait()\n",
    "\n"
   ]
  },
  {
   "cell_type": "code",
   "execution_count": 4,
   "metadata": {},
   "outputs": [],
   "source": [
    "driver = webdriver.Chrome(\"C:\\webdrivers\\chromedriver.exe\")\n",
    "open_timetable_page(driver)\n",
    "\n",
    "\n"
   ]
  },
  {
   "cell_type": "code",
   "execution_count": 5,
   "metadata": {},
   "outputs": [],
   "source": [
    "def find_with_soup(page_source, classType):\n",
    "    soup = BeautifulSoup(page_source, 'html')\n",
    "    table = soup.find('table', attrs={'class':'aplus-table'})\n",
    "    mainBody = table.find('tbody')\n",
    "    usefulRows = mainBody.find_all('tr')\n",
    "    # Assuming table format Activity, Day, Time, Campus, Location, Duration, Weeks, Description\n",
    "    for i in range(len(usefulRows)):\n",
    "        usefulRows[i] = usefulRows[i].text.split('\\n')\n",
    "    \n",
    "    duration = float(usefulRows[0][8].split(\" \")[0])\n",
    "    location = usefulRows[0][6]\n",
    "    classTimes = []\n",
    "    day_map = {\n",
    "        \"Mon\":1,\n",
    "        \"Tue\":2,\n",
    "        \"Wed\":3,\n",
    "        \"Thu\":4,\n",
    "        \"Fri\":5,\n",
    "        \"Sat\":6,\n",
    "        \"Sun\":7\n",
    "    }\n",
    "\n",
    "    for j in range(len(usefulRows)):\n",
    "        classTimes.append({\n",
    "            \"day_no\":day_map[usefulRows[j][4]],\n",
    "            \"start_time\":usefulRows[j][5],\n",
    "            \"weeks\":usefulRows[j][9],\n",
    "            \"availability\":usefulRows[j][1]\n",
    "            })\n",
    "\n",
    "\n",
    "    return {\"type\":classType, \"duration\":duration, \"location\":location, \"times\":classTimes}\n",
    "    \n",
    "\n",
    "\n",
    "\n",
    "\n",
    "\n"
   ]
  },
  {
   "cell_type": "code",
   "execution_count": 7,
   "metadata": {
    "tags": []
   },
   "outputs": [
    {
     "output_type": "stream",
     "name": "stdout",
     "text": [
      "title 1\n",
      "start click 2\n",
      "LTL\n",
      "done click\n",
      "start click 3\n",
      "PRA\n",
      "done click\n",
      "start click 4\n",
      "TUT\n",
      "done click\n",
      "title 5\n",
      "start click 6\n",
      "LTL\n",
      "done click\n",
      "start click 7\n",
      "PRA\n",
      "done click\n",
      "start click 8\n",
      "TUT\n",
      "done click\n",
      "title 9\n",
      "start click 10\n",
      "TUT\n",
      "done click\n",
      "title 11\n",
      "start click 12\n",
      "LTL\n",
      "done click\n",
      "start click 13\n",
      "PRA\n",
      "done click\n",
      "start click 14\n",
      "TUT\n",
      "done click\n",
      "finished downloading timetable\n",
      "\n"
     ]
    }
   ],
   "source": [
    "# element that holds the subject sidebar\n",
    "subjectList = driver.find_element_by_xpath('/html/body/div[4]/div/div[2]/div[2]/div/div[2]/div/div[2]/ul')\n",
    "elements = subjectList.find_elements_by_tag_name('li')\n",
    "# go through following li elemets \n",
    "counter = 0\n",
    "current_code = \"None\"\n",
    "current_course = \"None\"\n",
    "data = {\"courses\":[]}\n",
    "for i in range(len(elements)):\n",
    "    elem = elements[i]\n",
    "    if elem.get_attribute('class') == 'subject':\n",
    "        # get all the text\n",
    "        counter += 1\n",
    "        print('title', counter)\n",
    "        elemText = elem.text.split('\\n')\n",
    "        current_code = elemText[0].split('_')[0] # get only the code part\n",
    "        current_course = elemText[1] # get the course name\n",
    "        data[\"courses\"].append({\n",
    "            \"name\":current_course,\n",
    "            \"code\":current_code,\n",
    "            \"lessons\":[]\n",
    "            })\n",
    "       \n",
    "    elif elem.get_attribute('class') == 'action':\n",
    "        # go into the course's information\n",
    "        elem.click()\n",
    "        counter += 1\n",
    "        print('start click', counter)\n",
    "        classType = elem.get_attribute(\"data-group\")[:-2]\n",
    "        print(classType)\n",
    "        data[\"courses\"][-1][\"lessons\"].append(find_with_soup(driver.page_source, classType))\n",
    "        print('done click')\n",
    "        random_wait(2)\n",
    "        \n",
    "    else:\n",
    "        raise ValueError\n",
    "\n",
    "# data has now been created\n",
    "# time to save it\n",
    "with open('lessonOptions.json', \"w\") as f:\n",
    "    json.dump(data, f, indent=4)\n",
    "print('finished downloading timetable\\n')\n",
    "driver.close()\n",
    "        "
   ]
  },
  {
   "cell_type": "code",
   "execution_count": null,
   "metadata": {},
   "outputs": [],
   "source": []
  },
  {
   "cell_type": "code",
   "execution_count": null,
   "metadata": {},
   "outputs": [],
   "source": []
  }
 ],
 "metadata": {
  "kernelspec": {
   "name": "python3",
   "display_name": "Python 3.8.5 64-bit ('webscrape': conda)"
  },
  "language_info": {
   "codemirror_mode": {
    "name": "ipython",
    "version": 3
   },
   "file_extension": ".py",
   "mimetype": "text/x-python",
   "name": "python",
   "nbconvert_exporter": "python",
   "pygments_lexer": "ipython3",
   "version": "3.8.5"
  },
  "metadata": {
   "interpreter": {
    "hash": "6039ad0fe6569f1c561dc644fe4d65a25c552a9a0f73d6474083a1f5a23e5ea3"
   }
  },
  "interpreter": {
   "hash": "6039ad0fe6569f1c561dc644fe4d65a25c552a9a0f73d6474083a1f5a23e5ea3"
  }
 },
 "nbformat": 4,
 "nbformat_minor": 2
}