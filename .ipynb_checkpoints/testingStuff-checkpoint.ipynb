{
 "cells": [
  {
   "cell_type": "code",
   "execution_count": 1,
   "metadata": {},
   "outputs": [],
   "source": [
    "import os\n",
    "assert os.environ['CONDA_DEFAULT_ENV'] == 'webscrape', \"THE CONDA ENVIRONMENT MUST BE WEBSCARPE\"\n",
    "\n",
    "from selenium import webdriver\n",
    "from selenium.webdriver.common.keys import Keys\n",
    "from bs4 import BeautifulSoup\n",
    "import json\n",
    "import time\n",
    "from datetime import datetime\n",
    "import numpy as np"
   ]
  },
  {
   "cell_type": "code",
   "execution_count": 2,
   "metadata": {},
   "outputs": [],
   "source": [
    "def load_login_details():\n",
    "    with open('logins.json') as f:\n",
    "        details = json.load(f)\n",
    "    return details['username'], details['password']\n",
    "\n",
    "def random_wait(mult=7):\n",
    "    time.sleep(round(np.random.random() * mult, 5))"
   ]
  },
  {
   "cell_type": "code",
   "execution_count": 3,
   "metadata": {},
   "outputs": [],
   "source": [
    "def open_timetable_page(driver):\n",
    "    USERNAME, PASSWORD = load_login_details()\n",
    "    # load up first page\n",
    "    driver.get(\"https://www.rmit.edu.au/students/student-essentials/class-timetables\")\n",
    "    random_wait()    \n",
    "    # click \"Log in to myTimetable\n",
    "    driver.find_element_by_xpath('/html/body/div[2]/div[2]/div/section[2]/div/div[1]/div[2]/div/a').click()\n",
    "    random_wait()   \n",
    "\n",
    "    # log in elements\n",
    "    usernameElement = driver.find_element_by_xpath('/html/body/div[10]/div[1]/div/form/div/div[1]/div/input')\n",
    "    usernameElement.clear()\n",
    "    usernameElement.send_keys(USERNAME)\n",
    "\n",
    "    passwordElement = driver.find_element_by_xpath('/html/body/div[10]/div[1]/div/form/div/div[2]/div/input')\n",
    "    passwordElement.clear()\n",
    "    passwordElement.send_keys(PASSWORD)\n",
    "\n",
    "    random_wait()\n",
    "    \n",
    "    # perform log in\n",
    "    driver.find_element_by_xpath('/html/body/div[10]/div[1]/div/form/div/div[3]/span').click()\n",
    "    random_wait()\n",
    "\n"
   ]
  },
  {
   "cell_type": "code",
   "execution_count": 7,
   "metadata": {},
   "outputs": [],
   "source": [
    "driver = webdriver.Chrome(\"C:\\webdrivers\\chromedriver.exe\")\n",
    "open_timetable_page(driver)\n",
    "\n",
    "\n"
   ]
  },
  {
   "cell_type": "code",
   "execution_count": 22,
   "metadata": {},
   "outputs": [],
   "source": [
    "def find_with_soup(page_source):\n",
    "    soup = BeautifulSoup(page_source, 'html')\n",
    "    table = soup.find('table', attrs={'class':'aplus-table'})\n",
    "    mainBody = table.find('tbody')\n",
    "    usefulRows = mainBody.find_all('tr')\n",
    "    #for i in usefulRows:\n",
    "        #print(i)\n",
    "    print(usefulRows.coontents)#.split('<tr'))\n",
    "\n",
    "    return 0\n",
    "\n",
    "\n",
    "\n",
    "\n",
    "\n",
    "\n",
    "\n"
   ]
  },
  {
   "cell_type": "code",
   "execution_count": 23,
   "metadata": {
    "tags": []
   },
   "outputs": [
    {
     "name": "stdout",
     "output_type": "stream",
     "text": [
      "<class 'bs4.element.ResultSet'>\n"
     ]
    }
   ],
   "source": [
    "# element that holds the subject sidebar\n",
    "subjectList = driver.find_element_by_xpath('/html/body/div[4]/div/div[2]/div[2]/div/div[2]/div/div[2]/ul')\n",
    "elements = subjectList.find_elements_by_tag_name('li')\n",
    "# go through following li elemets \n",
    "\n",
    "current_code = \"None\"\n",
    "current_course = \"None\"\n",
    "data = []\n",
    "for i in range(2, len(elements)):\n",
    "    elem = elements[i]\n",
    "    if elem.get_attribute('class') == 'subject':\n",
    "        # get all the text\n",
    "        elemText = elem.text.split('\\n')\n",
    "        current_code = elemText[0].split('_')[0] # get only the code part\n",
    "        current_course = elemText[1] # get the course name\n",
    "       \n",
    "    elif elem.get_attribute('class') == 'action':\n",
    "        # go into the course's information\n",
    "        elem.click()\n",
    "        data.append(find_with_soup(driver.page_source))\n",
    "        # Assuming table format Activity, Day, Time, Campus, Location, Duration, Weeks, Description\n",
    "        #table = elem.find_element_by_class_name('aplus-table')\n",
    "        #tableRows = table.find_elements_by_tag_name('tr')\n",
    "        #for item in tableRows:\n",
    "            #print(item)\n",
    "        random_wait(2)\n",
    "        break\n",
    "    else:\n",
    "        raise ValueError\n",
    "        "
   ]
  },
  {
   "cell_type": "code",
   "execution_count": null,
   "metadata": {},
   "outputs": [],
   "source": []
  },
  {
   "cell_type": "code",
   "execution_count": null,
   "metadata": {},
   "outputs": [],
   "source": []
  }
 ],
 "metadata": {
  "kernelspec": {
   "display_name": "Python 3",
   "language": "python",
   "name": "python3"
  },
  "language_info": {
   "codemirror_mode": {
    "name": "ipython",
    "version": 3
   },
   "file_extension": ".py",
   "mimetype": "text/x-python",
   "name": "python",
   "nbconvert_exporter": "python",
   "pygments_lexer": "ipython3",
   "version": "3.7.7"
  },
  "metadata": {
   "interpreter": {
    "hash": "6039ad0fe6569f1c561dc644fe4d65a25c552a9a0f73d6474083a1f5a23e5ea3"
   }
  }
 },
 "nbformat": 4,
 "nbformat_minor": 2
}
